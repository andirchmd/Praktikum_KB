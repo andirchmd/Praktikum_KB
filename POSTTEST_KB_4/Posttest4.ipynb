{
 "cells": [
  {
   "cell_type": "markdown",
   "metadata": {
    "id": "EZczssLZxSxV"
   },
   "source": [
    "# POSTTEST 4\n",
    "oleh [Andi Rachmad Triandika Rusli](https://github.com/andirchmd) (2109106132)"
   ]
  },
  {
   "cell_type": "markdown",
   "metadata": {
    "id": "xNqyWuIIy3Px"
   },
   "source": [
    "## Data Preprocessing Dataset\n",
    "\n",
    "\n",
    "---\n",
    "\n",
    "Dataset: [PRDECT-ID: Indonesian Emotion Classification | Kaggle](https://www.kaggle.com/datasets/jocelyndumlao/prdect-id-indonesian-emotion-classification/data)"
   ]
  },
  {
   "cell_type": "markdown",
   "metadata": {
    "id": "bb1bX1IGzFkN"
   },
   "source": [
    "Untuk melakukan data preprocessing dataset ini saya menggunakan library `pandas`, `numpy` dan `sklearn`"
   ]
  },
  {
   "cell_type": "code",
   "execution_count": null,
   "metadata": {
    "id": "O9bH0J_CTRP9"
   },
   "outputs": [],
   "source": [
    "import pandas as pd\n",
    "import numpy as np\n",
    "from sklearn.preprocessing import StandardScaler, MinMaxScaler, OneHotEncoder #Data Transformation & Encoding\n",
    "from sklearn.impute import SimpleImputer # Data Cleaning\n",
    "from sklearn.model_selection import train_test_split # Data Split"
   ]
  },
  {
   "cell_type": "markdown",
   "metadata": {
    "id": "ll_floh-wVzm"
   },
   "source": [
    "Baca dan simpan datasetnya dengan nama `df`"
   ]
  },
  {
   "cell_type": "code",
   "execution_count": null,
   "metadata": {
    "colab": {
     "base_uri": "https://localhost:8080/",
     "height": 712
    },
    "id": "GSVs2qIJwVdv",
    "outputId": "17fedfed-6d6a-4a07-eb52-1bda3c96c127"
   },
   "outputs": [],
   "source": [
    "df = pd.read_csv(\"PRDECT-ID Dataset.csv\")\n",
    "df.head()"
   ]
  },
  {
   "cell_type": "markdown",
   "metadata": {
    "id": "SK3AxeTtxfit"
   },
   "source": [
    "### Dataset Training\n",
    "\n",
    "---\n"
   ]
  },
  {
   "cell_type": "markdown",
   "metadata": {
    "id": "ueLI1PNmx293"
   },
   "source": [
    "**1. Bagi dataset menjadi training set dan testing set dengan proporsi 70:30**\n"
   ]
  },
  {
   "cell_type": "code",
   "execution_count": null,
   "metadata": {
    "colab": {
     "base_uri": "https://localhost:8080/"
    },
    "id": "UQdPUbANxJoY",
    "outputId": "7c42da3d-674d-4f2a-99d9-dddb211b3efe"
   },
   "outputs": [],
   "source": [
    "X = df.iloc[:, : -1]\n",
    "y = df.iloc[:, -1]\n",
    "\n",
    "X_train, X_test, y_train, y_test = train_test_split(X, y, test_size=0.3)\n",
    "\n",
    "print(\"Dimensi X_train :\", X_train.shape)\n",
    "print(\"Dimensi X_test  :\", X_test.shape)\n",
    "print(\"Dimensi y_train :\", y_train.shape)\n",
    "print(\"Dimensi y_test  :\", y_test.shape)"
   ]
  },
  {
   "cell_type": "markdown",
   "metadata": {
    "id": "au16GXtNDJBL"
   },
   "source": [
    "### Data Transformasi\n",
    "---"
   ]
  },
  {
   "cell_type": "markdown",
   "metadata": {
    "id": "7SupKzYa_IxA"
   },
   "source": [
    "**2. Melakukan Normalisasi Data pada Attribute Total Review menggunakan MinMaxScaler**"
   ]
  },
  {
   "cell_type": "code",
   "execution_count": null,
   "metadata": {
    "colab": {
     "base_uri": "https://localhost:8080/",
     "height": 206
    },
    "id": "BYJAFRKlyPBp",
    "outputId": "213222f8-9aab-4ad9-e785-595ef0db25ec"
   },
   "outputs": [],
   "source": [
    "# Copy\n",
    "df_copy = df.copy()\n",
    "scaler = MinMaxScaler()\n",
    "\n",
    "df_copy['Hasil Normalisasi'] = scaler.fit_transform(df_copy[['Total Review']])\n",
    "komparasi_nrm = pd.concat([df['Total Review'], df_copy['Hasil Normalisasi']], axis=1)\n",
    "komparasi_nrm.head()"
   ]
  },
  {
   "cell_type": "markdown",
   "metadata": {
    "id": "ebMwXRll_gIv"
   },
   "source": [
    "**3. Melakukan Standarisasi pada attribut Number Sold**\n"
   ]
  },
  {
   "cell_type": "code",
   "execution_count": null,
   "metadata": {
    "colab": {
     "base_uri": "https://localhost:8080/"
    },
    "id": "cbT07szE0irc",
    "outputId": "bc8852f3-fcc2-478e-e101-2e39c6968e31"
   },
   "outputs": [],
   "source": [
    "scaler_std = StandardScaler()\n",
    "\n",
    "df_copy['Hasil Standarisasi'] = scaler_std.fit_transform(df_copy[['Number Sold']])\n",
    "\n",
    "print(\"Nilai Data Sebelum scaling : \")\n",
    "print(df['Number Sold'])\n",
    "print(\"Nilai standar deviasi: \", np.std(df['Number Sold']))\n",
    "\n",
    "print(\"\\n Nilai Data setelah scaling : \")\n",
    "print(df_copy['Hasil Standarisasi'])\n",
    "print(\"Nilai standar deviasi: \", np.std(df_copy['Hasil Standarisasi']))"
   ]
  },
  {
   "cell_type": "markdown",
   "metadata": {
    "id": "SqA29aW__ueg"
   },
   "source": [
    "### Data Cleaning\n",
    "\n",
    "---\n",
    "\n"
   ]
  },
  {
   "cell_type": "markdown",
   "metadata": {
    "id": "gctdnga6ABTH"
   },
   "source": [
    "**Melakukan Data Cleaning pada data dengan nilai Null**"
   ]
  },
  {
   "cell_type": "markdown",
   "metadata": {
    "id": "Nw-6hOrpAPS8"
   },
   "source": [
    "Mengecek adanya data Null"
   ]
  },
  {
   "cell_type": "code",
   "execution_count": null,
   "metadata": {
    "colab": {
     "base_uri": "https://localhost:8080/"
    },
    "id": "q5u1UsiM2457",
    "outputId": "43f1fedf-2e79-448a-fddc-25c0f844a40b"
   },
   "outputs": [],
   "source": [
    "df_copy.isna().sum()"
   ]
  },
  {
   "cell_type": "markdown",
   "metadata": {
    "id": "E3dVZ3WuAOTH"
   },
   "source": [
    "Karena tidak ada data Null jadi disini saya membuat 5 data baru dengan beberapa kolom yang diberikan nilai Null"
   ]
  },
  {
   "cell_type": "code",
   "execution_count": null,
   "metadata": {
    "colab": {
     "base_uri": "https://localhost:8080/",
     "height": 712
    },
    "id": "l9QLbyyc3Jlt",
    "outputId": "c77acf06-0a90-4b63-f2ae-7d80ec988c98"
   },
   "outputs": [],
   "source": [
    "data_baru = df_copy.head(5).copy()\n",
    "data_baru['Price'] = np.nan # membuat data kosong\n",
    "data_baru['Overall Rating'] = np.nan # membuat data kosong\n",
    "data_baru['Location'] = np.nan # membuat data kosong\n",
    "\n",
    "# tambahkan ke df_copy\n",
    "df_copy = pd.concat([df_copy, data_baru], ignore_index=True)\n",
    "\n",
    "df_copy.tail(5)"
   ]
  },
  {
   "cell_type": "code",
   "execution_count": null,
   "metadata": {
    "colab": {
     "base_uri": "https://localhost:8080/"
    },
    "id": "cOmumHzf41fN",
    "outputId": "0cf5b659-2cea-4fc5-87dd-fafc63e0ffbd"
   },
   "outputs": [],
   "source": [
    "df_copy.isna().sum()"
   ]
  },
  {
   "cell_type": "markdown",
   "metadata": {
    "id": "VhM6Vpa3Amoe"
   },
   "source": [
    "**4. Mengganti Nilai Null Sesuai Ketentuan**\n",
    "\n",
    "\n",
    "\n",
    "*   Bilangan Bulat: Median\n",
    "*   Bilangan Desimal: Mean\n",
    "*   Tulisan: Modus\n",
    "\n"
   ]
  },
  {
   "cell_type": "code",
   "execution_count": null,
   "metadata": {
    "colab": {
     "base_uri": "https://localhost:8080/",
     "height": 712
    },
    "id": "l4cN90U86BnO",
    "outputId": "dceec5d7-96a0-487c-e853-6cf799bc20b7"
   },
   "outputs": [],
   "source": [
    "imputer_price = SimpleImputer(strategy='median')\n",
    "imputer_rating = SimpleImputer(strategy='mean')\n",
    "imputer_location = SimpleImputer(strategy='most_frequent')\n",
    "\n",
    "df_copy['Price'] = imputer_price.fit_transform(df_copy[['Price']])\n",
    "df_copy['Overall Rating'] = imputer_rating.fit_transform(df_copy[['Overall Rating']])\n",
    "df_copy['Location'] = imputer_location.fit_transform(df_copy[['Location']])\n",
    "\n",
    "df_copy.tail(5)"
   ]
  },
  {
   "cell_type": "markdown",
   "metadata": {
    "id": "fkQwqeERBCyV"
   },
   "source": [
    "**5. Lakukan Data cleaning pada data dengan nilai duplikat**\n",
    "\n",
    "Mengecek jika terdapat nilai duplikat pada dataset"
   ]
  },
  {
   "cell_type": "code",
   "execution_count": null,
   "metadata": {
    "colab": {
     "base_uri": "https://localhost:8080/"
    },
    "id": "vVQzEvig6mS3",
    "outputId": "de9cdb55-af3d-4574-d06f-487914e294fc"
   },
   "outputs": [],
   "source": [
    "print(\"Nilai Duplikat: \",df_copy.duplicated().sum())"
   ]
  },
  {
   "cell_type": "markdown",
   "metadata": {
    "id": "Y6HZucwRBfMV"
   },
   "source": [
    "Menghapus nilai duplikat dengan drop_duplicates"
   ]
  },
  {
   "cell_type": "code",
   "execution_count": null,
   "metadata": {
    "colab": {
     "base_uri": "https://localhost:8080/"
    },
    "id": "buSBXqrr7NfW",
    "outputId": "45d00833-a94d-42ab-9c35-c51cad24bfca"
   },
   "outputs": [],
   "source": [
    "# Hapus duplikat menggunakan metode drop_duplicates\n",
    "df.drop_duplicates(inplace=True)\n",
    "\n",
    "print(\"Setelah menggunakan fungsi drop_duplicates()\")\n",
    "print(\"Jumlah nilai Duplikat:\", df.duplicated().sum())"
   ]
  },
  {
   "cell_type": "markdown",
   "metadata": {
    "id": "yKramLutCEqB"
   },
   "source": [
    "### Mengganti Tipe Data pada Attribute Angka\n",
    "\n",
    "\n",
    "---"
   ]
  },
  {
   "cell_type": "markdown",
   "metadata": {
    "id": "uRcVlbF4CKHu"
   },
   "source": [
    "**6. Mengganti tipe data kolom `Price` menjadi `int64`**"
   ]
  },
  {
   "cell_type": "code",
   "execution_count": null,
   "metadata": {
    "colab": {
     "base_uri": "https://localhost:8080/"
    },
    "id": "OEvDyTVu7i8r",
    "outputId": "55775e7a-68e3-4f76-8ad8-216d7a5e8bb2"
   },
   "outputs": [],
   "source": [
    "print('Sebelum Diubah: ',df_copy['Price'].dtype)\n",
    "\n",
    "df_copy['Price'] = df_copy['Price'].astype('int64')\n",
    "\n",
    "print('Setelah Diubah: ',df_copy['Price'].dtype)"
   ]
  },
  {
   "cell_type": "markdown",
   "metadata": {
    "id": "N7xCNiXFCTdX"
   },
   "source": [
    "### Encoding\n",
    "\n",
    "---\n",
    "\n"
   ]
  },
  {
   "cell_type": "markdown",
   "metadata": {
    "id": "65L_oLd6ChYp"
   },
   "source": [
    "**7. Melakukan One Hot Encoding pada attribut `Emotion`**"
   ]
  },
  {
   "cell_type": "code",
   "execution_count": null,
   "metadata": {
    "colab": {
     "base_uri": "https://localhost:8080/",
     "height": 712
    },
    "id": "oZkBvRWC80qz",
    "outputId": "2f125075-a2c9-4c0a-9ddd-63e6c1a5d7c1"
   },
   "outputs": [],
   "source": [
    "encoder = OneHotEncoder()\n",
    "\n",
    "encoded_emotion = encoder.fit_transform(df_copy[['Emotion']])\n",
    "encoded_emotion_df = pd.DataFrame(encoded_emotion.toarray(), columns=encoder.get_feature_names_out(['Emotion']))\n",
    "df_copy = pd.concat([df_copy, encoded_emotion_df], axis=1)\n",
    "df_copy.drop('Emotion', axis=1, inplace=True)\n",
    "\n",
    "df_copy.head()"
   ]
  }
 ],
 "metadata": {
  "colab": {
   "provenance": []
  },
  "kernelspec": {
   "display_name": "Andi_132",
   "language": "python",
   "name": "andi_132"
  },
  "language_info": {
   "codemirror_mode": {
    "name": "ipython",
    "version": 3
   },
   "file_extension": ".py",
   "mimetype": "text/x-python",
   "name": "python",
   "nbconvert_exporter": "python",
   "pygments_lexer": "ipython3",
   "version": "3.10.7"
  }
 },
 "nbformat": 4,
 "nbformat_minor": 4
}
