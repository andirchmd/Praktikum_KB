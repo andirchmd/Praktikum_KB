{
 "cells": [
  {
   "cell_type": "markdown",
   "metadata": {
    "id": "RxQJICf--JgB"
   },
   "source": [
    "# POSTTEST 6\n",
    "oleh [Andi Rachmad Triandika Rusli](https://github.com/andirchmd) (2109106132)"
   ]
  },
  {
   "cell_type": "markdown",
   "metadata": {
    "id": "wFWu-IWa-Nx2"
   },
   "source": [
    "## Pembuatan Model *Deep Neural Network* (DNN)\n",
    "\n",
    "\n",
    "---\n",
    "\n",
    "Dataset: [PRDECT-ID: Indonesian Emotion Classification | Kaggle](https://www.kaggle.com/datasets/jocelyndumlao/prdect-id-indonesian-emotion-classification/data)"
   ]
  },
  {
   "cell_type": "markdown",
   "metadata": {
    "id": "ABUpfTU5AZ0c"
   },
   "source": [
    "Library yang dipakai"
   ]
  },
  {
   "cell_type": "code",
   "execution_count": 18,
   "metadata": {
    "id": "SH-mIZguesVk"
   },
   "outputs": [],
   "source": [
    "import pandas as pd\n",
    "import matplotlib.pyplot as plt\n",
    "from sklearn.model_selection import train_test_split\n",
    "from sklearn.preprocessing import StandardScaler, LabelEncoder\n",
    "import tensorflow as tf\n",
    "from tensorflow.keras.models import Sequential\n",
    "from tensorflow.keras.layers import Dense, Dropout\n",
    "from tensorflow.keras.preprocessing.text import Tokenizer\n",
    "from tensorflow.keras.preprocessing.sequence import pad_sequences"
   ]
  },
  {
   "cell_type": "markdown",
   "metadata": {
    "id": "ITCfCc-zAko3"
   },
   "source": [
    "Baca dan simpan datasetnya dengan nama `df`"
   ]
  },
  {
   "cell_type": "code",
   "execution_count": 19,
   "metadata": {
    "colab": {
     "base_uri": "https://localhost:8080/",
     "height": 362
    },
    "id": "WwQimddsfbkA",
    "outputId": "20e0aeca-259f-40f2-e8be-57088999eece"
   },
   "outputs": [
    {
     "data": {
      "text/html": [
       "<div>\n",
       "<style scoped>\n",
       "    .dataframe tbody tr th:only-of-type {\n",
       "        vertical-align: middle;\n",
       "    }\n",
       "\n",
       "    .dataframe tbody tr th {\n",
       "        vertical-align: top;\n",
       "    }\n",
       "\n",
       "    .dataframe thead th {\n",
       "        text-align: right;\n",
       "    }\n",
       "</style>\n",
       "<table border=\"1\" class=\"dataframe\">\n",
       "  <thead>\n",
       "    <tr style=\"text-align: right;\">\n",
       "      <th></th>\n",
       "      <th>Category</th>\n",
       "      <th>Product Name</th>\n",
       "      <th>Location</th>\n",
       "      <th>Price</th>\n",
       "      <th>Overall Rating</th>\n",
       "      <th>Number Sold</th>\n",
       "      <th>Total Review</th>\n",
       "      <th>Customer Rating</th>\n",
       "      <th>Customer Review</th>\n",
       "      <th>Sentiment</th>\n",
       "      <th>Emotion</th>\n",
       "    </tr>\n",
       "  </thead>\n",
       "  <tbody>\n",
       "    <tr>\n",
       "      <th>0</th>\n",
       "      <td>Computers and Laptops</td>\n",
       "      <td>Wireless Keyboard i8 Mini TouchPad Mouse 2.4G ...</td>\n",
       "      <td>Jakarta Utara</td>\n",
       "      <td>53500</td>\n",
       "      <td>4.9</td>\n",
       "      <td>5449</td>\n",
       "      <td>2369</td>\n",
       "      <td>5</td>\n",
       "      <td>Alhamdulillah berfungsi dengan baik. Packaging...</td>\n",
       "      <td>Positive</td>\n",
       "      <td>Happy</td>\n",
       "    </tr>\n",
       "    <tr>\n",
       "      <th>1</th>\n",
       "      <td>Computers and Laptops</td>\n",
       "      <td>PAKET LISENSI WINDOWS 10 PRO DAN OFFICE 2019 O...</td>\n",
       "      <td>Kota Tangerang Selatan</td>\n",
       "      <td>72000</td>\n",
       "      <td>4.9</td>\n",
       "      <td>2359</td>\n",
       "      <td>1044</td>\n",
       "      <td>5</td>\n",
       "      <td>barang bagus dan respon cepat, harga bersaing ...</td>\n",
       "      <td>Positive</td>\n",
       "      <td>Happy</td>\n",
       "    </tr>\n",
       "    <tr>\n",
       "      <th>2</th>\n",
       "      <td>Computers and Laptops</td>\n",
       "      <td>SSD Midasforce 128 Gb - Tanpa Caddy</td>\n",
       "      <td>Jakarta Barat</td>\n",
       "      <td>213000</td>\n",
       "      <td>5.0</td>\n",
       "      <td>12300</td>\n",
       "      <td>3573</td>\n",
       "      <td>5</td>\n",
       "      <td>barang bagus, berfungsi dengan baik, seler ram...</td>\n",
       "      <td>Positive</td>\n",
       "      <td>Happy</td>\n",
       "    </tr>\n",
       "    <tr>\n",
       "      <th>3</th>\n",
       "      <td>Computers and Laptops</td>\n",
       "      <td>ADAPTOR CHARGER MONITOR LCD LED TV LG merek LG...</td>\n",
       "      <td>Jakarta Timur</td>\n",
       "      <td>55000</td>\n",
       "      <td>4.7</td>\n",
       "      <td>2030</td>\n",
       "      <td>672</td>\n",
       "      <td>5</td>\n",
       "      <td>bagus sesuai harapan penjual nya juga ramah. t...</td>\n",
       "      <td>Positive</td>\n",
       "      <td>Happy</td>\n",
       "    </tr>\n",
       "    <tr>\n",
       "      <th>4</th>\n",
       "      <td>Computers and Laptops</td>\n",
       "      <td>ADAPTOR CHARGER MONITOR LCD LED TV LG merek LG...</td>\n",
       "      <td>Jakarta Timur</td>\n",
       "      <td>55000</td>\n",
       "      <td>4.7</td>\n",
       "      <td>2030</td>\n",
       "      <td>672</td>\n",
       "      <td>5</td>\n",
       "      <td>Barang Bagus, pengemasan Aman, dapat Berfungsi...</td>\n",
       "      <td>Positive</td>\n",
       "      <td>Happy</td>\n",
       "    </tr>\n",
       "  </tbody>\n",
       "</table>\n",
       "</div>"
      ],
      "text/plain": [
       "                Category                                       Product Name  \\\n",
       "0  Computers and Laptops  Wireless Keyboard i8 Mini TouchPad Mouse 2.4G ...   \n",
       "1  Computers and Laptops  PAKET LISENSI WINDOWS 10 PRO DAN OFFICE 2019 O...   \n",
       "2  Computers and Laptops                SSD Midasforce 128 Gb - Tanpa Caddy   \n",
       "3  Computers and Laptops  ADAPTOR CHARGER MONITOR LCD LED TV LG merek LG...   \n",
       "4  Computers and Laptops  ADAPTOR CHARGER MONITOR LCD LED TV LG merek LG...   \n",
       "\n",
       "                 Location   Price  Overall Rating  Number Sold  Total Review  \\\n",
       "0           Jakarta Utara   53500             4.9         5449          2369   \n",
       "1  Kota Tangerang Selatan   72000             4.9         2359          1044   \n",
       "2           Jakarta Barat  213000             5.0        12300          3573   \n",
       "3           Jakarta Timur   55000             4.7         2030           672   \n",
       "4           Jakarta Timur   55000             4.7         2030           672   \n",
       "\n",
       "   Customer Rating                                    Customer Review  \\\n",
       "0                5  Alhamdulillah berfungsi dengan baik. Packaging...   \n",
       "1                5  barang bagus dan respon cepat, harga bersaing ...   \n",
       "2                5  barang bagus, berfungsi dengan baik, seler ram...   \n",
       "3                5  bagus sesuai harapan penjual nya juga ramah. t...   \n",
       "4                5  Barang Bagus, pengemasan Aman, dapat Berfungsi...   \n",
       "\n",
       "  Sentiment Emotion  \n",
       "0  Positive   Happy  \n",
       "1  Positive   Happy  \n",
       "2  Positive   Happy  \n",
       "3  Positive   Happy  \n",
       "4  Positive   Happy  "
      ]
     },
     "execution_count": 19,
     "metadata": {},
     "output_type": "execute_result"
    }
   ],
   "source": [
    "df = pd.read_csv(\"PRDECT-ID Dataset.csv\")\n",
    "df.head()"
   ]
  },
  {
   "cell_type": "markdown",
   "metadata": {
    "id": "ytwhWUhO-aP4"
   },
   "source": [
    "### **1. Sequential Model**\n",
    "---"
   ]
  },
  {
   "cell_type": "markdown",
   "metadata": {
    "id": "41shqXnZnGlz"
   },
   "source": [
    "#### **Persiapan Data**\n",
    "\n",
    "Sebelum melatih model, kita perlu memastikan data telah diproses dan siap untuk digunakan untuk train model"
   ]
  },
  {
   "cell_type": "markdown",
   "metadata": {
    "id": "myvZmJYj4qFY"
   },
   "source": [
    "**Label Encoding**: Mengubah label sentimen dari kategorikal (seperti \"Positive\" dan \"Negative\") menjadi numerik (0 dan 1)."
   ]
  },
  {
   "cell_type": "code",
   "execution_count": 20,
   "metadata": {
    "id": "tF4z-F_wmBGm"
   },
   "outputs": [],
   "source": [
    "le = LabelEncoder()\n",
    "df['Sentiment_num'] = le.fit_transform(df['Sentiment'])"
   ]
  },
  {
   "cell_type": "markdown",
   "metadata": {
    "id": "iJIiANrQ4_4s"
   },
   "source": [
    "**Pemilihan Fitur**: Disini saya hanya memilih fitur numerik dari dataset saja."
   ]
  },
  {
   "cell_type": "code",
   "execution_count": 21,
   "metadata": {
    "id": "Mb6I4PAv4KK0"
   },
   "outputs": [],
   "source": [
    "X = df[['Price', 'Customer Rating']]\n",
    "y = df['Sentiment_num']"
   ]
  },
  {
   "cell_type": "markdown",
   "metadata": {
    "id": "3rDKD2Wa5TR-"
   },
   "source": [
    "**Standardisasi**: Mengubah fitur agar memiliki rata-rata 0 dan standar deviasi 1, yang akan mempercepat proses pelatihan."
   ]
  },
  {
   "cell_type": "code",
   "execution_count": 22,
   "metadata": {
    "id": "NY7s61dm4OkV"
   },
   "outputs": [],
   "source": [
    "scaler = StandardScaler()\n",
    "X_scaled = scaler.fit_transform(X)"
   ]
  },
  {
   "cell_type": "markdown",
   "metadata": {
    "id": "OQcDsEPunMwb"
   },
   "source": [
    "**Pembagian Data**: Data dibagi menjadi set train dan test. Set train digunakan untuk melatih model dan set test digunakan untuk evaluasi."
   ]
  },
  {
   "cell_type": "code",
   "execution_count": 23,
   "metadata": {
    "id": "XP1o4WhmnMgr"
   },
   "outputs": [],
   "source": [
    "X_train, X_test, y_train, y_test = train_test_split(X_scaled, y, test_size=0.2, random_state=42)"
   ]
  },
  {
   "cell_type": "markdown",
   "metadata": {
    "id": "FhXstYut5f_z"
   },
   "source": [
    "#### **Membuat Model DNN**"
   ]
  },
  {
   "cell_type": "markdown",
   "metadata": {
    "id": "vr7TRzEzoWrK"
   },
   "source": [
    "Mendefinisikan arsitektur dari Deep Neural Network.\n",
    "\n",
    "- Model ini terdiri dari tiga layer: dua layer dengan fungsi aktivasi ReLU dan satu layer output dengan fungsi aktivasi sigmoid (karena ini adalah masalah klasifikasi biner).\n",
    "- Dropout ditambahkan untuk menghindari overfitting, dengan memutus sebagian koneksi selama proses pelatihan."
   ]
  },
  {
   "cell_type": "code",
   "execution_count": 24,
   "metadata": {
    "colab": {
     "base_uri": "https://localhost:8080/"
    },
    "id": "1bwdV8U6oWlL",
    "outputId": "effd1bed-7b72-4839-89fa-2ea8718dbc24"
   },
   "outputs": [
    {
     "name": "stdout",
     "output_type": "stream",
     "text": [
      "Model: \"sequential_2\"\n",
      "_________________________________________________________________\n",
      " Layer (type)                Output Shape              Param #   \n",
      "=================================================================\n",
      " dense_5 (Dense)             (None, 128)               384       \n",
      "                                                                 \n",
      " dropout_2 (Dropout)         (None, 128)               0         \n",
      "                                                                 \n",
      " dense_6 (Dense)             (None, 64)                8256      \n",
      "                                                                 \n",
      " dropout_3 (Dropout)         (None, 64)                0         \n",
      "                                                                 \n",
      " dense_7 (Dense)             (None, 1)                 65        \n",
      "                                                                 \n",
      "=================================================================\n",
      "Total params: 8705 (34.00 KB)\n",
      "Trainable params: 8705 (34.00 KB)\n",
      "Non-trainable params: 0 (0.00 Byte)\n",
      "_________________________________________________________________\n"
     ]
    }
   ],
   "source": [
    "model = Sequential([\n",
    "    Dense(128, activation='relu', input_shape=(X_train.shape[1],)),\n",
    "    Dropout(0.5),\n",
    "    Dense(64, activation='relu'),\n",
    "    Dropout(0.5),\n",
    "    Dense(1, activation='sigmoid')\n",
    "])\n",
    "\n",
    "model.compile(optimizer='adam',\n",
    "              loss='binary_crossentropy',\n",
    "              metrics=['accuracy'])\n",
    "model.summary()"
   ]
  },
  {
   "cell_type": "markdown",
   "metadata": {
    "id": "VAyAm1EOokdT"
   },
   "source": [
    "#### **Melatih Model**"
   ]
  },
  {
   "cell_type": "markdown",
   "metadata": {
    "id": "uJjT0yil58-M"
   },
   "source": [
    "- Model dilatih menggunakan data pelatihan.\n",
    "- Selama pelatihan berjalan akan memvalidasi model juga dengan subset dari data pelatihan (20% dari data pelatihan) untuk memantau hasil train model pada data yang belum pernah dilihat selama pelatihan."
   ]
  },
  {
   "cell_type": "code",
   "execution_count": 25,
   "metadata": {
    "colab": {
     "base_uri": "https://localhost:8080/"
    },
    "id": "-_5KsOnTokQy",
    "outputId": "882b133a-21f1-47c9-8b4d-0ffda4033042"
   },
   "outputs": [
    {
     "name": "stdout",
     "output_type": "stream",
     "text": [
      "Epoch 1/50\n",
      "108/108 [==============================] - 2s 7ms/step - loss: 0.2671 - accuracy: 0.9384 - val_loss: 0.0605 - val_accuracy: 0.9838\n",
      "Epoch 2/50\n",
      "108/108 [==============================] - 0s 4ms/step - loss: 0.0728 - accuracy: 0.9823 - val_loss: 0.0495 - val_accuracy: 0.9873\n",
      "Epoch 3/50\n",
      "108/108 [==============================] - 0s 4ms/step - loss: 0.0653 - accuracy: 0.9826 - val_loss: 0.0493 - val_accuracy: 0.9873\n",
      "Epoch 4/50\n",
      "108/108 [==============================] - 0s 4ms/step - loss: 0.0626 - accuracy: 0.9832 - val_loss: 0.0528 - val_accuracy: 0.9838\n",
      "Epoch 5/50\n",
      "108/108 [==============================] - 0s 4ms/step - loss: 0.0641 - accuracy: 0.9823 - val_loss: 0.0473 - val_accuracy: 0.9873\n",
      "Epoch 6/50\n",
      "108/108 [==============================] - 0s 4ms/step - loss: 0.0599 - accuracy: 0.9835 - val_loss: 0.0469 - val_accuracy: 0.9873\n",
      "Epoch 7/50\n",
      "108/108 [==============================] - 0s 4ms/step - loss: 0.0618 - accuracy: 0.9835 - val_loss: 0.0488 - val_accuracy: 0.9861\n",
      "Epoch 8/50\n",
      "108/108 [==============================] - 0s 4ms/step - loss: 0.0634 - accuracy: 0.9829 - val_loss: 0.0471 - val_accuracy: 0.9873\n",
      "Epoch 9/50\n",
      "108/108 [==============================] - 0s 4ms/step - loss: 0.0637 - accuracy: 0.9832 - val_loss: 0.0470 - val_accuracy: 0.9873\n",
      "Epoch 10/50\n",
      "108/108 [==============================] - 0s 4ms/step - loss: 0.0614 - accuracy: 0.9835 - val_loss: 0.0468 - val_accuracy: 0.9873\n",
      "Epoch 11/50\n",
      "108/108 [==============================] - 0s 4ms/step - loss: 0.0595 - accuracy: 0.9838 - val_loss: 0.0468 - val_accuracy: 0.9873\n",
      "Epoch 12/50\n",
      "108/108 [==============================] - 0s 4ms/step - loss: 0.0631 - accuracy: 0.9832 - val_loss: 0.0467 - val_accuracy: 0.9873\n",
      "Epoch 13/50\n",
      "108/108 [==============================] - 0s 4ms/step - loss: 0.0626 - accuracy: 0.9835 - val_loss: 0.0467 - val_accuracy: 0.9873\n",
      "Epoch 14/50\n",
      "108/108 [==============================] - 0s 4ms/step - loss: 0.0636 - accuracy: 0.9835 - val_loss: 0.0474 - val_accuracy: 0.9873\n",
      "Epoch 15/50\n",
      "108/108 [==============================] - 0s 4ms/step - loss: 0.0602 - accuracy: 0.9838 - val_loss: 0.0469 - val_accuracy: 0.9873\n",
      "Epoch 16/50\n",
      "108/108 [==============================] - 0s 4ms/step - loss: 0.0589 - accuracy: 0.9838 - val_loss: 0.0466 - val_accuracy: 0.9873\n",
      "Epoch 17/50\n",
      "108/108 [==============================] - 0s 4ms/step - loss: 0.0571 - accuracy: 0.9841 - val_loss: 0.0467 - val_accuracy: 0.9873\n",
      "Epoch 18/50\n",
      "108/108 [==============================] - 0s 4ms/step - loss: 0.0585 - accuracy: 0.9838 - val_loss: 0.0474 - val_accuracy: 0.9873\n",
      "Epoch 19/50\n",
      "108/108 [==============================] - 0s 4ms/step - loss: 0.0624 - accuracy: 0.9835 - val_loss: 0.0465 - val_accuracy: 0.9873\n",
      "Epoch 20/50\n",
      "108/108 [==============================] - 0s 3ms/step - loss: 0.0586 - accuracy: 0.9835 - val_loss: 0.0464 - val_accuracy: 0.9873\n",
      "Epoch 21/50\n",
      "108/108 [==============================] - 0s 4ms/step - loss: 0.0601 - accuracy: 0.9838 - val_loss: 0.0464 - val_accuracy: 0.9873\n",
      "Epoch 22/50\n",
      "108/108 [==============================] - 0s 4ms/step - loss: 0.0593 - accuracy: 0.9835 - val_loss: 0.0464 - val_accuracy: 0.9873\n",
      "Epoch 23/50\n",
      "108/108 [==============================] - 0s 4ms/step - loss: 0.0605 - accuracy: 0.9835 - val_loss: 0.0467 - val_accuracy: 0.9873\n",
      "Epoch 24/50\n",
      "108/108 [==============================] - 0s 4ms/step - loss: 0.0593 - accuracy: 0.9835 - val_loss: 0.0467 - val_accuracy: 0.9873\n",
      "Epoch 25/50\n",
      "108/108 [==============================] - 0s 4ms/step - loss: 0.0570 - accuracy: 0.9838 - val_loss: 0.0469 - val_accuracy: 0.9873\n",
      "Epoch 26/50\n",
      "108/108 [==============================] - 0s 4ms/step - loss: 0.0570 - accuracy: 0.9841 - val_loss: 0.0462 - val_accuracy: 0.9873\n",
      "Epoch 27/50\n",
      "108/108 [==============================] - 0s 4ms/step - loss: 0.0574 - accuracy: 0.9841 - val_loss: 0.0471 - val_accuracy: 0.9873\n",
      "Epoch 28/50\n",
      "108/108 [==============================] - 0s 3ms/step - loss: 0.0621 - accuracy: 0.9835 - val_loss: 0.0470 - val_accuracy: 0.9873\n",
      "Epoch 29/50\n",
      "108/108 [==============================] - 0s 4ms/step - loss: 0.0574 - accuracy: 0.9841 - val_loss: 0.0466 - val_accuracy: 0.9873\n",
      "Epoch 30/50\n",
      "108/108 [==============================] - 0s 4ms/step - loss: 0.0582 - accuracy: 0.9841 - val_loss: 0.0465 - val_accuracy: 0.9873\n",
      "Epoch 31/50\n",
      "108/108 [==============================] - 0s 4ms/step - loss: 0.0600 - accuracy: 0.9838 - val_loss: 0.0461 - val_accuracy: 0.9873\n",
      "Epoch 32/50\n",
      "108/108 [==============================] - 0s 4ms/step - loss: 0.0622 - accuracy: 0.9832 - val_loss: 0.0465 - val_accuracy: 0.9873\n",
      "Epoch 33/50\n",
      "108/108 [==============================] - 0s 4ms/step - loss: 0.0617 - accuracy: 0.9832 - val_loss: 0.0476 - val_accuracy: 0.9873\n",
      "Epoch 34/50\n",
      "108/108 [==============================] - 0s 4ms/step - loss: 0.0570 - accuracy: 0.9841 - val_loss: 0.0472 - val_accuracy: 0.9873\n",
      "Epoch 35/50\n",
      "108/108 [==============================] - 0s 4ms/step - loss: 0.0575 - accuracy: 0.9838 - val_loss: 0.0469 - val_accuracy: 0.9873\n",
      "Epoch 36/50\n",
      "108/108 [==============================] - 0s 4ms/step - loss: 0.0557 - accuracy: 0.9841 - val_loss: 0.0466 - val_accuracy: 0.9873\n",
      "Epoch 37/50\n",
      "108/108 [==============================] - 0s 4ms/step - loss: 0.0600 - accuracy: 0.9835 - val_loss: 0.0471 - val_accuracy: 0.9873\n",
      "Epoch 38/50\n",
      "108/108 [==============================] - 0s 4ms/step - loss: 0.0578 - accuracy: 0.9835 - val_loss: 0.0477 - val_accuracy: 0.9873\n",
      "Epoch 39/50\n",
      "108/108 [==============================] - 0s 4ms/step - loss: 0.0575 - accuracy: 0.9838 - val_loss: 0.0467 - val_accuracy: 0.9873\n",
      "Epoch 40/50\n",
      "108/108 [==============================] - 0s 4ms/step - loss: 0.0583 - accuracy: 0.9838 - val_loss: 0.0470 - val_accuracy: 0.9873\n",
      "Epoch 41/50\n",
      "108/108 [==============================] - 0s 4ms/step - loss: 0.0608 - accuracy: 0.9835 - val_loss: 0.0476 - val_accuracy: 0.9873\n",
      "Epoch 42/50\n",
      "108/108 [==============================] - 0s 4ms/step - loss: 0.0611 - accuracy: 0.9838 - val_loss: 0.0469 - val_accuracy: 0.9873\n",
      "Epoch 43/50\n",
      "108/108 [==============================] - 0s 4ms/step - loss: 0.0577 - accuracy: 0.9841 - val_loss: 0.0467 - val_accuracy: 0.9873\n",
      "Epoch 44/50\n",
      "108/108 [==============================] - 0s 4ms/step - loss: 0.0603 - accuracy: 0.9835 - val_loss: 0.0474 - val_accuracy: 0.9873\n",
      "Epoch 45/50\n",
      "108/108 [==============================] - 0s 4ms/step - loss: 0.0615 - accuracy: 0.9832 - val_loss: 0.0483 - val_accuracy: 0.9873\n",
      "Epoch 46/50\n",
      "108/108 [==============================] - 0s 4ms/step - loss: 0.0570 - accuracy: 0.9838 - val_loss: 0.0475 - val_accuracy: 0.9873\n",
      "Epoch 47/50\n",
      "108/108 [==============================] - 0s 4ms/step - loss: 0.0569 - accuracy: 0.9838 - val_loss: 0.0492 - val_accuracy: 0.9873\n",
      "Epoch 48/50\n",
      "108/108 [==============================] - 0s 4ms/step - loss: 0.0582 - accuracy: 0.9838 - val_loss: 0.0477 - val_accuracy: 0.9873\n",
      "Epoch 49/50\n",
      "108/108 [==============================] - 0s 4ms/step - loss: 0.0568 - accuracy: 0.9838 - val_loss: 0.0472 - val_accuracy: 0.9873\n",
      "Epoch 50/50\n",
      "108/108 [==============================] - 0s 4ms/step - loss: 0.0607 - accuracy: 0.9835 - val_loss: 0.0476 - val_accuracy: 0.9873\n"
     ]
    }
   ],
   "source": [
    "history = model.fit(X_train, y_train, validation_split=0.2, epochs=50, batch_size=32)"
   ]
  },
  {
   "cell_type": "markdown",
   "metadata": {
    "id": "BZictfL7_D69"
   },
   "source": [
    "#### **Evaluasi Model**"
   ]
  },
  {
   "cell_type": "markdown",
   "metadata": {
    "id": "WaTLU7Ymn5ML"
   },
   "source": [
    "Setelah pelatihan selesai, kita mengevaluasi kinerja model pada data pengujian untuk mendapatkan gambaran tentang seberapa baik model bekerja pada data yang benar-benar belum pernah dilihat."
   ]
  },
  {
   "cell_type": "code",
   "execution_count": 26,
   "metadata": {
    "colab": {
     "base_uri": "https://localhost:8080/"
    },
    "id": "lyK9vlo8n5kK",
    "outputId": "337f7172-864e-4430-f363-5aac30f96eac"
   },
   "outputs": [
    {
     "name": "stdout",
     "output_type": "stream",
     "text": [
      "34/34 [==============================] - 0s 2ms/step - loss: 0.0535 - accuracy: 0.9870\n",
      "Test Accuracy: 0.9870\n"
     ]
    }
   ],
   "source": [
    "loss, accuracy = model.evaluate(X_test, y_test)\n",
    "print(f\"Test Accuracy: {accuracy:.4f}\")"
   ]
  },
  {
   "cell_type": "markdown",
   "metadata": {
    "id": "YTvhEWq6_bvY"
   },
   "source": [
    "#### **Plot Metrik**"
   ]
  },
  {
   "cell_type": "markdown",
   "metadata": {
    "id": "P33vTxXoKDLk"
   },
   "source": [
    "- Grafik pertama menunjukkan perubahan akurasi selama setiap epoch untuk set pelatihan dan validasi.\n",
    "- Grafik kedua menunjukkan bagaimana loss berubah selama setiap epoch."
   ]
  },
  {
   "cell_type": "code",
   "execution_count": 27,
   "metadata": {
    "colab": {
     "base_uri": "https://localhost:8080/",
     "height": 607
    },
    "id": "AE_DHwwIpyip",
    "outputId": "e34d96ee-af0f-49d2-e5b2-0ad2bb98df0b"
   },
   "outputs": [
    {
     "data": {
      "image/png": "[encoded data removed]",
      "text/plain": [
       "<Figure size 1200x600 with 2 Axes>"
      ]
     },
     "metadata": {},
     "output_type": "display_data"
    }
   ],
   "source": [
    "plt.figure(figsize=(12, 6))\n",
    "plt.subplot(1, 2, 1)\n",
    "plt.plot(history.history['accuracy'], label='Training Accuracy')\n",
    "plt.plot(history.history['val_accuracy'], label='Validation Accuracy')\n",
    "plt.title('Model Accuracy')\n",
    "plt.xlabel('Epoch')\n",
    "plt.ylabel('Accuracy')\n",
    "plt.legend()\n",
    "\n",
    "plt.subplot(1, 2, 2)\n",
    "plt.plot(history.history['loss'], label='Training Loss')\n",
    "plt.plot(history.history['val_loss'], label='Validation Loss')\n",
    "plt.title('Model Loss')\n",
    "plt.xlabel('Epoch')\n",
    "plt.ylabel('Loss')\n",
    "plt.legend()\n",
    "\n",
    "plt.tight_layout()\n",
    "plt.show()"
   ]
  },
  {
   "cell_type": "markdown",
   "metadata": {
    "id": "OOp9IV-69xa9"
   },
   "source": [
    "### **2. Sequential Model NLP**\n",
    "---"
   ]
  },
  {
   "cell_type": "markdown",
   "metadata": {
    "id": "zbUK7PD5-I79"
   },
   "source": [
    "#### **Persiapan Data**\n",
    "Sebelum melatih model, kita perlu memastikan data telah diproses dan siap untuk digunakan untuk train model"
   ]
  },
  {
   "cell_type": "markdown",
   "metadata": {
    "id": "aprxxkFO-lDt"
   },
   "source": [
    "**Pembagian Data**: Membagi dataset menjadi set train dan test."
   ]
  },
  {
   "cell_type": "code",
   "execution_count": 28,
   "metadata": {
    "id": "wXThBDKw707k"
   },
   "outputs": [],
   "source": [
    "X = df[\"Customer Review\"]\n",
    "y = df[\"Sentiment_num\"]\n",
    "X_train, X_test, y_train, y_test = train_test_split(X, y, test_size=0.2, random_state=42)"
   ]
  },
  {
   "cell_type": "markdown",
   "metadata": {
    "id": "ZjqEaNN8-wSi"
   },
   "source": [
    "**Tokenisasi**: Mengonversi setiap kata dalam ulasan ke dalam sebuah token numerik."
   ]
  },
  {
   "cell_type": "code",
   "execution_count": 29,
   "metadata": {
    "id": "M0yrjTly-qqU"
   },
   "outputs": [],
   "source": [
    "max_words = 10000  # jumlah kata maksimum\n",
    "tokenizer = Tokenizer(num_words=max_words, oov_token=\"<OOV>\")\n",
    "tokenizer.fit_on_texts(X_train)"
   ]
  },
  {
   "cell_type": "markdown",
   "metadata": {
    "id": "svjdIu9Q_BWp"
   },
   "source": [
    "**Padding**: Memastikan bahwa setiap ulasan memiliki panjang yang sama dengan menambahkan padding jika diperlukan."
   ]
  },
  {
   "cell_type": "code",
   "execution_count": 30,
   "metadata": {
    "id": "w9CBl-8e-71t"
   },
   "outputs": [],
   "source": [
    "max_length = 100  # panjang maksimum dari setiap sequence\n",
    "X_train_seq = tokenizer.texts_to_sequences(X_train)\n",
    "X_train_padded = pad_sequences(X_train_seq, maxlen=max_length, truncating=\"post\", padding=\"post\")\n",
    "\n",
    "X_test_seq = tokenizer.texts_to_sequences(X_test)\n",
    "X_test_padded = pad_sequences(X_test_seq, maxlen=max_length, truncating=\"post\", padding=\"post\")"
   ]
  },
  {
   "cell_type": "markdown",
   "metadata": {
    "id": "NCkUM-TO_Hnz"
   },
   "source": [
    "#### **Membuat Model DNN untuk NLP**"
   ]
  },
  {
   "cell_type": "markdown",
   "metadata": {
    "id": "NaHL2ESW_QaV"
   },
   "source": [
    "Mulai buat arsitektur Deep Neural Network untuk analisis sentimen.\n",
    "\n",
    "- Model dimulai dengan layer embedding, yang akan mengonversi token kata menjadi vektor.\n",
    "- Kemudian layer dense yang akan memproses informasi tersebut dan menghasilkan prediksi."
   ]
  },
  {
   "cell_type": "code",
   "execution_count": 31,
   "metadata": {
    "colab": {
     "base_uri": "https://localhost:8080/"
    },
    "id": "Qc0wQuTe75Wv",
    "outputId": "a52fafbd-12a8-4cae-e32f-1f5d2f51679f"
   },
   "outputs": [
    {
     "name": "stdout",
     "output_type": "stream",
     "text": [
      "Model: \"sequential_3\"\n",
      "_________________________________________________________________\n",
      " Layer (type)                Output Shape              Param #   \n",
      "=================================================================\n",
      " embedding_1 (Embedding)     (None, 100, 16)           160000    \n",
      "                                                                 \n",
      " flatten_1 (Flatten)         (None, 1600)              0         \n",
      "                                                                 \n",
      " dense_8 (Dense)             (None, 24)                38424     \n",
      "                                                                 \n",
      " dense_9 (Dense)             (None, 1)                 25        \n",
      "                                                                 \n",
      "=================================================================\n",
      "Total params: 198449 (775.19 KB)\n",
      "Trainable params: 198449 (775.19 KB)\n",
      "Non-trainable params: 0 (0.00 Byte)\n",
      "_________________________________________________________________\n"
     ]
    }
   ],
   "source": [
    "embedding_dim = 16\n",
    "\n",
    "model = tf.keras.Sequential([\n",
    "    tf.keras.layers.Embedding(max_words, embedding_dim, input_length=max_length),\n",
    "    tf.keras.layers.Flatten(),\n",
    "    tf.keras.layers.Dense(24, activation='relu'),\n",
    "    tf.keras.layers.Dense(1, activation='sigmoid')\n",
    "])\n",
    "\n",
    "model.compile(optimizer='adam', loss='binary_crossentropy', metrics=['accuracy'])\n",
    "model.summary()"
   ]
  },
  {
   "cell_type": "markdown",
   "metadata": {
    "id": "vWWPmW9x_nUx"
   },
   "source": [
    "#### **Melatih Model**"
   ]
  },
  {
   "cell_type": "markdown",
   "metadata": {
    "id": "4BFqVffb_rYy"
   },
   "source": [
    "Dengan struktur model yang telah ditentukan, langkah selanjutnya adalah melatih model dengan data pelatihan."
   ]
  },
  {
   "cell_type": "code",
   "execution_count": 32,
   "metadata": {
    "colab": {
     "base_uri": "https://localhost:8080/"
    },
    "id": "B-Z8O8N978j7",
    "outputId": "bfbec98f-091b-41f0-e2a8-a23c18b79b9d"
   },
   "outputs": [
    {
     "name": "stdout",
     "output_type": "stream",
     "text": [
      "Epoch 1/10\n",
      "135/135 [==============================] - 4s 7ms/step - loss: 0.5733 - accuracy: 0.6928 - val_loss: 0.3412 - val_accuracy: 0.8852\n",
      "Epoch 2/10\n",
      "135/135 [==============================] - 1s 5ms/step - loss: 0.1817 - accuracy: 0.9440 - val_loss: 0.1761 - val_accuracy: 0.9333\n",
      "Epoch 3/10\n",
      "135/135 [==============================] - 1s 5ms/step - loss: 0.0774 - accuracy: 0.9780 - val_loss: 0.1522 - val_accuracy: 0.9417\n",
      "Epoch 4/10\n",
      "135/135 [==============================] - 1s 5ms/step - loss: 0.0389 - accuracy: 0.9910 - val_loss: 0.1531 - val_accuracy: 0.9417\n",
      "Epoch 5/10\n",
      "135/135 [==============================] - 1s 5ms/step - loss: 0.0216 - accuracy: 0.9968 - val_loss: 0.1525 - val_accuracy: 0.9481\n",
      "Epoch 6/10\n",
      "135/135 [==============================] - 1s 5ms/step - loss: 0.0117 - accuracy: 0.9988 - val_loss: 0.1528 - val_accuracy: 0.9435\n",
      "Epoch 7/10\n",
      "135/135 [==============================] - 1s 5ms/step - loss: 0.0068 - accuracy: 0.9995 - val_loss: 0.1617 - val_accuracy: 0.9472\n",
      "Epoch 8/10\n",
      "135/135 [==============================] - 1s 5ms/step - loss: 0.0046 - accuracy: 0.9998 - val_loss: 0.1698 - val_accuracy: 0.9417\n",
      "Epoch 9/10\n",
      "135/135 [==============================] - 1s 5ms/step - loss: 0.0031 - accuracy: 0.9998 - val_loss: 0.1753 - val_accuracy: 0.9435\n",
      "Epoch 10/10\n",
      "135/135 [==============================] - 1s 5ms/step - loss: 0.0021 - accuracy: 1.0000 - val_loss: 0.1836 - val_accuracy: 0.9417\n"
     ]
    }
   ],
   "source": [
    "num_epochs = 10\n",
    "history = model.fit(X_train_padded, y_train, epochs=num_epochs, validation_data=(X_test_padded, y_test))"
   ]
  },
  {
   "cell_type": "markdown",
   "metadata": {
    "id": "z66TTPsO_zRq"
   },
   "source": [
    "#### **Evaluasi Model**"
   ]
  },
  {
   "cell_type": "markdown",
   "metadata": {
    "id": "TQ-pQOa2_39t"
   },
   "source": [
    "Setelah pelatihan selesai, kita mengevaluasi kinerja model pada data pengujian."
   ]
  },
  {
   "cell_type": "code",
   "execution_count": 33,
   "metadata": {
    "colab": {
     "base_uri": "https://localhost:8080/"
    },
    "id": "VEjv1rf37-n7",
    "outputId": "fec6713f-88f0-4128-cc01-53fe07e0bb59"
   },
   "outputs": [
    {
     "name": "stdout",
     "output_type": "stream",
     "text": [
      "34/34 [==============================] - 0s 2ms/step - loss: 0.1836 - accuracy: 0.9417\n",
      "Test Accuracy: 0.9417\n"
     ]
    }
   ],
   "source": [
    "loss, accuracy = model.evaluate(X_test_padded, y_test)\n",
    "print(f\"Test Accuracy: {accuracy:.4f}\")"
   ]
  },
  {
   "cell_type": "markdown",
   "metadata": {
    "id": "Vn3wpVzH_-Ih"
   },
   "source": [
    "#### **Plot Metrik**"
   ]
  },
  {
   "cell_type": "markdown",
   "metadata": {
    "id": "8pJiM7quAIKp"
   },
   "source": [
    "- Grafik pertama menunjukkan perubahan akurasi selama setiap epoch untuk set pelatihan dan validasi.\n",
    "- Grafik kedua menunjukkan bagaimana loss berubah selama setiap epoch."
   ]
  },
  {
   "cell_type": "code",
   "execution_count": 34,
   "metadata": {
    "colab": {
     "base_uri": "https://localhost:8080/",
     "height": 607
    },
    "id": "N0-drvIm8A5y",
    "outputId": "e628c629-5b55-4762-8fdf-db04a3e26633"
   },
   "outputs": [
    {
     "data": {
      "image/png": "[encoded data removed]",
      "text/plain": [
       "<Figure size 1200x600 with 2 Axes>"
      ]
     },
     "metadata": {},
     "output_type": "display_data"
    }
   ],
   "source": [
    "plt.figure(figsize=(12, 6))\n",
    "plt.subplot(1, 2, 1)\n",
    "plt.plot(history.history['accuracy'], label='Training Accuracy')\n",
    "plt.plot(history.history['val_accuracy'], label='Validation Accuracy')\n",
    "plt.title('Model Accuracy')\n",
    "plt.xlabel('Epoch')\n",
    "plt.ylabel('Accuracy')\n",
    "plt.legend()\n",
    "\n",
    "plt.subplot(1, 2, 2)\n",
    "plt.plot(history.history['loss'], label='Training Loss')\n",
    "plt.plot(history.history['val_loss'], label='Validation Loss')\n",
    "plt.title('Model Loss')\n",
    "plt.xlabel('Epoch')\n",
    "plt.ylabel('Loss')\n",
    "plt.legend()\n",
    "\n",
    "plt.tight_layout()\n",
    "plt.show()\n"
   ]
  }
 ],
 "metadata": {
  "colab": {
   "provenance": []
  },
  "kernelspec": {
   "display_name": "Andi_132",
   "language": "python",
   "name": "andi_132"
  },
  "language_info": {
   "codemirror_mode": {
    "name": "ipython",
    "version": 3
   },
   "file_extension": ".py",
   "mimetype": "text/x-python",
   "name": "python",
   "nbconvert_exporter": "python",
   "pygments_lexer": "ipython3",
   "version": "3.10.7"
  }
 },
 "nbformat": 4,
 "nbformat_minor": 4
}
